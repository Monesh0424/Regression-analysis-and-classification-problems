{
 "cells": [
  {
   "cell_type": "code",
   "execution_count": 1,
   "metadata": {},
   "outputs": [
    {
     "name": "stderr",
     "output_type": "stream",
     "text": [
      "Using TensorFlow backend.\n"
     ]
    }
   ],
   "source": [
    "import numpy as np\n",
    "import matplotlib.pyplot as plt\n",
    "import pandas as pd\n",
    "import keras"
   ]
  },
  {
   "cell_type": "code",
   "execution_count": 2,
   "metadata": {},
   "outputs": [
    {
     "data": {
      "text/html": [
       "<div>\n",
       "<style scoped>\n",
       "    .dataframe tbody tr th:only-of-type {\n",
       "        vertical-align: middle;\n",
       "    }\n",
       "\n",
       "    .dataframe tbody tr th {\n",
       "        vertical-align: top;\n",
       "    }\n",
       "\n",
       "    .dataframe thead th {\n",
       "        text-align: right;\n",
       "    }\n",
       "</style>\n",
       "<table border=\"1\" class=\"dataframe\">\n",
       "  <thead>\n",
       "    <tr style=\"text-align: right;\">\n",
       "      <th></th>\n",
       "      <th>RowNumber</th>\n",
       "      <th>CustomerId</th>\n",
       "      <th>Surname</th>\n",
       "      <th>CreditScore</th>\n",
       "      <th>Geography</th>\n",
       "      <th>Gender</th>\n",
       "      <th>Age</th>\n",
       "      <th>Tenure</th>\n",
       "      <th>Balance</th>\n",
       "      <th>NumOfProducts</th>\n",
       "      <th>HasCrCard</th>\n",
       "      <th>IsActiveMember</th>\n",
       "      <th>EstimatedSalary</th>\n",
       "      <th>Exited</th>\n",
       "    </tr>\n",
       "  </thead>\n",
       "  <tbody>\n",
       "    <tr>\n",
       "      <th>0</th>\n",
       "      <td>1</td>\n",
       "      <td>15634602</td>\n",
       "      <td>Hargrave</td>\n",
       "      <td>619</td>\n",
       "      <td>France</td>\n",
       "      <td>Female</td>\n",
       "      <td>42</td>\n",
       "      <td>2</td>\n",
       "      <td>0.00</td>\n",
       "      <td>1</td>\n",
       "      <td>1</td>\n",
       "      <td>1</td>\n",
       "      <td>101348.88</td>\n",
       "      <td>1</td>\n",
       "    </tr>\n",
       "    <tr>\n",
       "      <th>1</th>\n",
       "      <td>2</td>\n",
       "      <td>15647311</td>\n",
       "      <td>Hill</td>\n",
       "      <td>608</td>\n",
       "      <td>Spain</td>\n",
       "      <td>Female</td>\n",
       "      <td>41</td>\n",
       "      <td>1</td>\n",
       "      <td>83807.86</td>\n",
       "      <td>1</td>\n",
       "      <td>0</td>\n",
       "      <td>1</td>\n",
       "      <td>112542.58</td>\n",
       "      <td>0</td>\n",
       "    </tr>\n",
       "    <tr>\n",
       "      <th>2</th>\n",
       "      <td>3</td>\n",
       "      <td>15619304</td>\n",
       "      <td>Onio</td>\n",
       "      <td>502</td>\n",
       "      <td>France</td>\n",
       "      <td>Female</td>\n",
       "      <td>42</td>\n",
       "      <td>8</td>\n",
       "      <td>159660.80</td>\n",
       "      <td>3</td>\n",
       "      <td>1</td>\n",
       "      <td>0</td>\n",
       "      <td>113931.57</td>\n",
       "      <td>1</td>\n",
       "    </tr>\n",
       "    <tr>\n",
       "      <th>3</th>\n",
       "      <td>4</td>\n",
       "      <td>15701354</td>\n",
       "      <td>Boni</td>\n",
       "      <td>699</td>\n",
       "      <td>France</td>\n",
       "      <td>Female</td>\n",
       "      <td>39</td>\n",
       "      <td>1</td>\n",
       "      <td>0.00</td>\n",
       "      <td>2</td>\n",
       "      <td>0</td>\n",
       "      <td>0</td>\n",
       "      <td>93826.63</td>\n",
       "      <td>0</td>\n",
       "    </tr>\n",
       "    <tr>\n",
       "      <th>4</th>\n",
       "      <td>5</td>\n",
       "      <td>15737888</td>\n",
       "      <td>Mitchell</td>\n",
       "      <td>850</td>\n",
       "      <td>Spain</td>\n",
       "      <td>Female</td>\n",
       "      <td>43</td>\n",
       "      <td>2</td>\n",
       "      <td>125510.82</td>\n",
       "      <td>1</td>\n",
       "      <td>1</td>\n",
       "      <td>1</td>\n",
       "      <td>79084.10</td>\n",
       "      <td>0</td>\n",
       "    </tr>\n",
       "  </tbody>\n",
       "</table>\n",
       "</div>"
      ],
      "text/plain": [
       "   RowNumber  CustomerId   Surname  CreditScore Geography  Gender  Age  \\\n",
       "0          1    15634602  Hargrave          619    France  Female   42   \n",
       "1          2    15647311      Hill          608     Spain  Female   41   \n",
       "2          3    15619304      Onio          502    France  Female   42   \n",
       "3          4    15701354      Boni          699    France  Female   39   \n",
       "4          5    15737888  Mitchell          850     Spain  Female   43   \n",
       "\n",
       "   Tenure    Balance  NumOfProducts  HasCrCard  IsActiveMember  \\\n",
       "0       2       0.00              1          1               1   \n",
       "1       1   83807.86              1          0               1   \n",
       "2       8  159660.80              3          1               0   \n",
       "3       1       0.00              2          0               0   \n",
       "4       2  125510.82              1          1               1   \n",
       "\n",
       "   EstimatedSalary  Exited  \n",
       "0        101348.88       1  \n",
       "1        112542.58       0  \n",
       "2        113931.57       1  \n",
       "3         93826.63       0  \n",
       "4         79084.10       0  "
      ]
     },
     "execution_count": 2,
     "metadata": {},
     "output_type": "execute_result"
    }
   ],
   "source": [
    "# Importing the data\n",
    "\n",
    "df = pd.read_csv(r\"C:\\Users\\USER\\Desktop\\Case studies\\ANN\\Churn_Modelling.csv\")\n",
    "df.head()"
   ]
  },
  {
   "cell_type": "code",
   "execution_count": 3,
   "metadata": {},
   "outputs": [
    {
     "name": "stdout",
     "output_type": "stream",
     "text": [
      "<class 'pandas.core.frame.DataFrame'>\n",
      "RangeIndex: 10000 entries, 0 to 9999\n",
      "Data columns (total 14 columns):\n",
      " #   Column           Non-Null Count  Dtype  \n",
      "---  ------           --------------  -----  \n",
      " 0   RowNumber        10000 non-null  int64  \n",
      " 1   CustomerId       10000 non-null  int64  \n",
      " 2   Surname          10000 non-null  object \n",
      " 3   CreditScore      10000 non-null  int64  \n",
      " 4   Geography        10000 non-null  object \n",
      " 5   Gender           10000 non-null  object \n",
      " 6   Age              10000 non-null  int64  \n",
      " 7   Tenure           10000 non-null  int64  \n",
      " 8   Balance          10000 non-null  float64\n",
      " 9   NumOfProducts    10000 non-null  int64  \n",
      " 10  HasCrCard        10000 non-null  int64  \n",
      " 11  IsActiveMember   10000 non-null  int64  \n",
      " 12  EstimatedSalary  10000 non-null  float64\n",
      " 13  Exited           10000 non-null  int64  \n",
      "dtypes: float64(2), int64(9), object(3)\n",
      "memory usage: 1.1+ MB\n"
     ]
    }
   ],
   "source": [
    "df.info()"
   ]
  },
  {
   "cell_type": "code",
   "execution_count": 4,
   "metadata": {},
   "outputs": [
    {
     "data": {
      "text/plain": [
       "RowNumber          0\n",
       "CustomerId         0\n",
       "Surname            0\n",
       "CreditScore        0\n",
       "Geography          0\n",
       "Gender             0\n",
       "Age                0\n",
       "Tenure             0\n",
       "Balance            0\n",
       "NumOfProducts      0\n",
       "HasCrCard          0\n",
       "IsActiveMember     0\n",
       "EstimatedSalary    0\n",
       "Exited             0\n",
       "dtype: int64"
      ]
     },
     "execution_count": 4,
     "metadata": {},
     "output_type": "execute_result"
    }
   ],
   "source": [
    "df.isnull().sum()"
   ]
  },
  {
   "cell_type": "code",
   "execution_count": 5,
   "metadata": {},
   "outputs": [
    {
     "data": {
      "text/html": [
       "<div>\n",
       "<style scoped>\n",
       "    .dataframe tbody tr th:only-of-type {\n",
       "        vertical-align: middle;\n",
       "    }\n",
       "\n",
       "    .dataframe tbody tr th {\n",
       "        vertical-align: top;\n",
       "    }\n",
       "\n",
       "    .dataframe thead th {\n",
       "        text-align: right;\n",
       "    }\n",
       "</style>\n",
       "<table border=\"1\" class=\"dataframe\">\n",
       "  <thead>\n",
       "    <tr style=\"text-align: right;\">\n",
       "      <th></th>\n",
       "      <th>RowNumber</th>\n",
       "      <th>CustomerId</th>\n",
       "      <th>Surname</th>\n",
       "      <th>CreditScore</th>\n",
       "      <th>Geography</th>\n",
       "      <th>Gender</th>\n",
       "      <th>Age</th>\n",
       "      <th>Tenure</th>\n",
       "      <th>Balance</th>\n",
       "      <th>NumOfProducts</th>\n",
       "      <th>HasCrCard</th>\n",
       "      <th>IsActiveMember</th>\n",
       "      <th>EstimatedSalary</th>\n",
       "      <th>Exited</th>\n",
       "    </tr>\n",
       "  </thead>\n",
       "  <tbody>\n",
       "    <tr>\n",
       "      <th>0</th>\n",
       "      <td>1</td>\n",
       "      <td>15634602</td>\n",
       "      <td>Hargrave</td>\n",
       "      <td>619</td>\n",
       "      <td>France</td>\n",
       "      <td>Female</td>\n",
       "      <td>42</td>\n",
       "      <td>2</td>\n",
       "      <td>0.00</td>\n",
       "      <td>1</td>\n",
       "      <td>1</td>\n",
       "      <td>1</td>\n",
       "      <td>101348.88</td>\n",
       "      <td>1</td>\n",
       "    </tr>\n",
       "    <tr>\n",
       "      <th>1</th>\n",
       "      <td>2</td>\n",
       "      <td>15647311</td>\n",
       "      <td>Hill</td>\n",
       "      <td>608</td>\n",
       "      <td>Spain</td>\n",
       "      <td>Female</td>\n",
       "      <td>41</td>\n",
       "      <td>1</td>\n",
       "      <td>83807.86</td>\n",
       "      <td>1</td>\n",
       "      <td>0</td>\n",
       "      <td>1</td>\n",
       "      <td>112542.58</td>\n",
       "      <td>0</td>\n",
       "    </tr>\n",
       "    <tr>\n",
       "      <th>2</th>\n",
       "      <td>3</td>\n",
       "      <td>15619304</td>\n",
       "      <td>Onio</td>\n",
       "      <td>502</td>\n",
       "      <td>France</td>\n",
       "      <td>Female</td>\n",
       "      <td>42</td>\n",
       "      <td>8</td>\n",
       "      <td>159660.80</td>\n",
       "      <td>3</td>\n",
       "      <td>1</td>\n",
       "      <td>0</td>\n",
       "      <td>113931.57</td>\n",
       "      <td>1</td>\n",
       "    </tr>\n",
       "    <tr>\n",
       "      <th>3</th>\n",
       "      <td>4</td>\n",
       "      <td>15701354</td>\n",
       "      <td>Boni</td>\n",
       "      <td>699</td>\n",
       "      <td>France</td>\n",
       "      <td>Female</td>\n",
       "      <td>39</td>\n",
       "      <td>1</td>\n",
       "      <td>0.00</td>\n",
       "      <td>2</td>\n",
       "      <td>0</td>\n",
       "      <td>0</td>\n",
       "      <td>93826.63</td>\n",
       "      <td>0</td>\n",
       "    </tr>\n",
       "    <tr>\n",
       "      <th>4</th>\n",
       "      <td>5</td>\n",
       "      <td>15737888</td>\n",
       "      <td>Mitchell</td>\n",
       "      <td>850</td>\n",
       "      <td>Spain</td>\n",
       "      <td>Female</td>\n",
       "      <td>43</td>\n",
       "      <td>2</td>\n",
       "      <td>125510.82</td>\n",
       "      <td>1</td>\n",
       "      <td>1</td>\n",
       "      <td>1</td>\n",
       "      <td>79084.10</td>\n",
       "      <td>0</td>\n",
       "    </tr>\n",
       "  </tbody>\n",
       "</table>\n",
       "</div>"
      ],
      "text/plain": [
       "   RowNumber  CustomerId   Surname  CreditScore Geography  Gender  Age  \\\n",
       "0          1    15634602  Hargrave          619    France  Female   42   \n",
       "1          2    15647311      Hill          608     Spain  Female   41   \n",
       "2          3    15619304      Onio          502    France  Female   42   \n",
       "3          4    15701354      Boni          699    France  Female   39   \n",
       "4          5    15737888  Mitchell          850     Spain  Female   43   \n",
       "\n",
       "   Tenure    Balance  NumOfProducts  HasCrCard  IsActiveMember  \\\n",
       "0       2       0.00              1          1               1   \n",
       "1       1   83807.86              1          0               1   \n",
       "2       8  159660.80              3          1               0   \n",
       "3       1       0.00              2          0               0   \n",
       "4       2  125510.82              1          1               1   \n",
       "\n",
       "   EstimatedSalary  Exited  \n",
       "0        101348.88       1  \n",
       "1        112542.58       0  \n",
       "2        113931.57       1  \n",
       "3         93826.63       0  \n",
       "4         79084.10       0  "
      ]
     },
     "execution_count": 5,
     "metadata": {},
     "output_type": "execute_result"
    }
   ],
   "source": [
    "df.head()"
   ]
  },
  {
   "cell_type": "code",
   "execution_count": 6,
   "metadata": {},
   "outputs": [
    {
     "data": {
      "text/plain": [
       "Male      5457\n",
       "Female    4543\n",
       "Name: Gender, dtype: int64"
      ]
     },
     "execution_count": 6,
     "metadata": {},
     "output_type": "execute_result"
    }
   ],
   "source": [
    "df['Gender'].value_counts()"
   ]
  },
  {
   "cell_type": "code",
   "execution_count": 7,
   "metadata": {},
   "outputs": [],
   "source": [
    "df['Gender'] = df['Gender'].map({'Female':0 , 'Male':1})"
   ]
  },
  {
   "cell_type": "code",
   "execution_count": 8,
   "metadata": {},
   "outputs": [
    {
     "data": {
      "text/plain": [
       "1    5457\n",
       "0    4543\n",
       "Name: Gender, dtype: int64"
      ]
     },
     "execution_count": 8,
     "metadata": {},
     "output_type": "execute_result"
    }
   ],
   "source": [
    "df['Gender'].value_counts()"
   ]
  },
  {
   "cell_type": "code",
   "execution_count": 9,
   "metadata": {},
   "outputs": [],
   "source": [
    "X = df['Geography']"
   ]
  },
  {
   "cell_type": "code",
   "execution_count": 10,
   "metadata": {},
   "outputs": [],
   "source": [
    "dummy = pd.get_dummies(X , drop_first=True)"
   ]
  },
  {
   "cell_type": "code",
   "execution_count": 11,
   "metadata": {},
   "outputs": [],
   "source": [
    "df = pd.concat([dummy,df] , axis=1)"
   ]
  },
  {
   "cell_type": "code",
   "execution_count": 12,
   "metadata": {},
   "outputs": [],
   "source": [
    "df.drop(\"Geography\",axis=1,inplace=True)"
   ]
  },
  {
   "cell_type": "code",
   "execution_count": 13,
   "metadata": {},
   "outputs": [
    {
     "data": {
      "text/html": [
       "<div>\n",
       "<style scoped>\n",
       "    .dataframe tbody tr th:only-of-type {\n",
       "        vertical-align: middle;\n",
       "    }\n",
       "\n",
       "    .dataframe tbody tr th {\n",
       "        vertical-align: top;\n",
       "    }\n",
       "\n",
       "    .dataframe thead th {\n",
       "        text-align: right;\n",
       "    }\n",
       "</style>\n",
       "<table border=\"1\" class=\"dataframe\">\n",
       "  <thead>\n",
       "    <tr style=\"text-align: right;\">\n",
       "      <th></th>\n",
       "      <th>Germany</th>\n",
       "      <th>Spain</th>\n",
       "      <th>RowNumber</th>\n",
       "      <th>CustomerId</th>\n",
       "      <th>Surname</th>\n",
       "      <th>CreditScore</th>\n",
       "      <th>Gender</th>\n",
       "      <th>Age</th>\n",
       "      <th>Tenure</th>\n",
       "      <th>Balance</th>\n",
       "      <th>NumOfProducts</th>\n",
       "      <th>HasCrCard</th>\n",
       "      <th>IsActiveMember</th>\n",
       "      <th>EstimatedSalary</th>\n",
       "      <th>Exited</th>\n",
       "    </tr>\n",
       "  </thead>\n",
       "  <tbody>\n",
       "    <tr>\n",
       "      <th>0</th>\n",
       "      <td>0</td>\n",
       "      <td>0</td>\n",
       "      <td>1</td>\n",
       "      <td>15634602</td>\n",
       "      <td>Hargrave</td>\n",
       "      <td>619</td>\n",
       "      <td>0</td>\n",
       "      <td>42</td>\n",
       "      <td>2</td>\n",
       "      <td>0.00</td>\n",
       "      <td>1</td>\n",
       "      <td>1</td>\n",
       "      <td>1</td>\n",
       "      <td>101348.88</td>\n",
       "      <td>1</td>\n",
       "    </tr>\n",
       "    <tr>\n",
       "      <th>1</th>\n",
       "      <td>0</td>\n",
       "      <td>1</td>\n",
       "      <td>2</td>\n",
       "      <td>15647311</td>\n",
       "      <td>Hill</td>\n",
       "      <td>608</td>\n",
       "      <td>0</td>\n",
       "      <td>41</td>\n",
       "      <td>1</td>\n",
       "      <td>83807.86</td>\n",
       "      <td>1</td>\n",
       "      <td>0</td>\n",
       "      <td>1</td>\n",
       "      <td>112542.58</td>\n",
       "      <td>0</td>\n",
       "    </tr>\n",
       "    <tr>\n",
       "      <th>2</th>\n",
       "      <td>0</td>\n",
       "      <td>0</td>\n",
       "      <td>3</td>\n",
       "      <td>15619304</td>\n",
       "      <td>Onio</td>\n",
       "      <td>502</td>\n",
       "      <td>0</td>\n",
       "      <td>42</td>\n",
       "      <td>8</td>\n",
       "      <td>159660.80</td>\n",
       "      <td>3</td>\n",
       "      <td>1</td>\n",
       "      <td>0</td>\n",
       "      <td>113931.57</td>\n",
       "      <td>1</td>\n",
       "    </tr>\n",
       "    <tr>\n",
       "      <th>3</th>\n",
       "      <td>0</td>\n",
       "      <td>0</td>\n",
       "      <td>4</td>\n",
       "      <td>15701354</td>\n",
       "      <td>Boni</td>\n",
       "      <td>699</td>\n",
       "      <td>0</td>\n",
       "      <td>39</td>\n",
       "      <td>1</td>\n",
       "      <td>0.00</td>\n",
       "      <td>2</td>\n",
       "      <td>0</td>\n",
       "      <td>0</td>\n",
       "      <td>93826.63</td>\n",
       "      <td>0</td>\n",
       "    </tr>\n",
       "    <tr>\n",
       "      <th>4</th>\n",
       "      <td>0</td>\n",
       "      <td>1</td>\n",
       "      <td>5</td>\n",
       "      <td>15737888</td>\n",
       "      <td>Mitchell</td>\n",
       "      <td>850</td>\n",
       "      <td>0</td>\n",
       "      <td>43</td>\n",
       "      <td>2</td>\n",
       "      <td>125510.82</td>\n",
       "      <td>1</td>\n",
       "      <td>1</td>\n",
       "      <td>1</td>\n",
       "      <td>79084.10</td>\n",
       "      <td>0</td>\n",
       "    </tr>\n",
       "  </tbody>\n",
       "</table>\n",
       "</div>"
      ],
      "text/plain": [
       "   Germany  Spain  RowNumber  CustomerId   Surname  CreditScore  Gender  Age  \\\n",
       "0        0      0          1    15634602  Hargrave          619       0   42   \n",
       "1        0      1          2    15647311      Hill          608       0   41   \n",
       "2        0      0          3    15619304      Onio          502       0   42   \n",
       "3        0      0          4    15701354      Boni          699       0   39   \n",
       "4        0      1          5    15737888  Mitchell          850       0   43   \n",
       "\n",
       "   Tenure    Balance  NumOfProducts  HasCrCard  IsActiveMember  \\\n",
       "0       2       0.00              1          1               1   \n",
       "1       1   83807.86              1          0               1   \n",
       "2       8  159660.80              3          1               0   \n",
       "3       1       0.00              2          0               0   \n",
       "4       2  125510.82              1          1               1   \n",
       "\n",
       "   EstimatedSalary  Exited  \n",
       "0        101348.88       1  \n",
       "1        112542.58       0  \n",
       "2        113931.57       1  \n",
       "3         93826.63       0  \n",
       "4         79084.10       0  "
      ]
     },
     "execution_count": 13,
     "metadata": {},
     "output_type": "execute_result"
    }
   ],
   "source": [
    "df.head()"
   ]
  },
  {
   "cell_type": "code",
   "execution_count": 14,
   "metadata": {},
   "outputs": [],
   "source": [
    "data = df"
   ]
  },
  {
   "cell_type": "code",
   "execution_count": 15,
   "metadata": {},
   "outputs": [],
   "source": [
    "data.drop('RowNumber' , inplace=True , axis=1)\n",
    "data.drop('Surname' , inplace=True , axis=1)"
   ]
  },
  {
   "cell_type": "code",
   "execution_count": 16,
   "metadata": {},
   "outputs": [
    {
     "data": {
      "text/html": [
       "<div>\n",
       "<style scoped>\n",
       "    .dataframe tbody tr th:only-of-type {\n",
       "        vertical-align: middle;\n",
       "    }\n",
       "\n",
       "    .dataframe tbody tr th {\n",
       "        vertical-align: top;\n",
       "    }\n",
       "\n",
       "    .dataframe thead th {\n",
       "        text-align: right;\n",
       "    }\n",
       "</style>\n",
       "<table border=\"1\" class=\"dataframe\">\n",
       "  <thead>\n",
       "    <tr style=\"text-align: right;\">\n",
       "      <th></th>\n",
       "      <th>Germany</th>\n",
       "      <th>Spain</th>\n",
       "      <th>CustomerId</th>\n",
       "      <th>CreditScore</th>\n",
       "      <th>Gender</th>\n",
       "      <th>Age</th>\n",
       "      <th>Tenure</th>\n",
       "      <th>Balance</th>\n",
       "      <th>NumOfProducts</th>\n",
       "      <th>HasCrCard</th>\n",
       "      <th>IsActiveMember</th>\n",
       "      <th>EstimatedSalary</th>\n",
       "      <th>Exited</th>\n",
       "    </tr>\n",
       "  </thead>\n",
       "  <tbody>\n",
       "    <tr>\n",
       "      <th>0</th>\n",
       "      <td>0</td>\n",
       "      <td>0</td>\n",
       "      <td>15634602</td>\n",
       "      <td>619</td>\n",
       "      <td>0</td>\n",
       "      <td>42</td>\n",
       "      <td>2</td>\n",
       "      <td>0.00</td>\n",
       "      <td>1</td>\n",
       "      <td>1</td>\n",
       "      <td>1</td>\n",
       "      <td>101348.88</td>\n",
       "      <td>1</td>\n",
       "    </tr>\n",
       "    <tr>\n",
       "      <th>1</th>\n",
       "      <td>0</td>\n",
       "      <td>1</td>\n",
       "      <td>15647311</td>\n",
       "      <td>608</td>\n",
       "      <td>0</td>\n",
       "      <td>41</td>\n",
       "      <td>1</td>\n",
       "      <td>83807.86</td>\n",
       "      <td>1</td>\n",
       "      <td>0</td>\n",
       "      <td>1</td>\n",
       "      <td>112542.58</td>\n",
       "      <td>0</td>\n",
       "    </tr>\n",
       "    <tr>\n",
       "      <th>2</th>\n",
       "      <td>0</td>\n",
       "      <td>0</td>\n",
       "      <td>15619304</td>\n",
       "      <td>502</td>\n",
       "      <td>0</td>\n",
       "      <td>42</td>\n",
       "      <td>8</td>\n",
       "      <td>159660.80</td>\n",
       "      <td>3</td>\n",
       "      <td>1</td>\n",
       "      <td>0</td>\n",
       "      <td>113931.57</td>\n",
       "      <td>1</td>\n",
       "    </tr>\n",
       "    <tr>\n",
       "      <th>3</th>\n",
       "      <td>0</td>\n",
       "      <td>0</td>\n",
       "      <td>15701354</td>\n",
       "      <td>699</td>\n",
       "      <td>0</td>\n",
       "      <td>39</td>\n",
       "      <td>1</td>\n",
       "      <td>0.00</td>\n",
       "      <td>2</td>\n",
       "      <td>0</td>\n",
       "      <td>0</td>\n",
       "      <td>93826.63</td>\n",
       "      <td>0</td>\n",
       "    </tr>\n",
       "    <tr>\n",
       "      <th>4</th>\n",
       "      <td>0</td>\n",
       "      <td>1</td>\n",
       "      <td>15737888</td>\n",
       "      <td>850</td>\n",
       "      <td>0</td>\n",
       "      <td>43</td>\n",
       "      <td>2</td>\n",
       "      <td>125510.82</td>\n",
       "      <td>1</td>\n",
       "      <td>1</td>\n",
       "      <td>1</td>\n",
       "      <td>79084.10</td>\n",
       "      <td>0</td>\n",
       "    </tr>\n",
       "  </tbody>\n",
       "</table>\n",
       "</div>"
      ],
      "text/plain": [
       "   Germany  Spain  CustomerId  CreditScore  Gender  Age  Tenure    Balance  \\\n",
       "0        0      0    15634602          619       0   42       2       0.00   \n",
       "1        0      1    15647311          608       0   41       1   83807.86   \n",
       "2        0      0    15619304          502       0   42       8  159660.80   \n",
       "3        0      0    15701354          699       0   39       1       0.00   \n",
       "4        0      1    15737888          850       0   43       2  125510.82   \n",
       "\n",
       "   NumOfProducts  HasCrCard  IsActiveMember  EstimatedSalary  Exited  \n",
       "0              1          1               1        101348.88       1  \n",
       "1              1          0               1        112542.58       0  \n",
       "2              3          1               0        113931.57       1  \n",
       "3              2          0               0         93826.63       0  \n",
       "4              1          1               1         79084.10       0  "
      ]
     },
     "execution_count": 16,
     "metadata": {},
     "output_type": "execute_result"
    }
   ],
   "source": [
    "data.head()"
   ]
  },
  {
   "cell_type": "code",
   "execution_count": 17,
   "metadata": {},
   "outputs": [],
   "source": [
    "data.drop('CustomerId' , inplace=True , axis=1)"
   ]
  },
  {
   "cell_type": "code",
   "execution_count": 18,
   "metadata": {},
   "outputs": [
    {
     "data": {
      "text/html": [
       "<div>\n",
       "<style scoped>\n",
       "    .dataframe tbody tr th:only-of-type {\n",
       "        vertical-align: middle;\n",
       "    }\n",
       "\n",
       "    .dataframe tbody tr th {\n",
       "        vertical-align: top;\n",
       "    }\n",
       "\n",
       "    .dataframe thead th {\n",
       "        text-align: right;\n",
       "    }\n",
       "</style>\n",
       "<table border=\"1\" class=\"dataframe\">\n",
       "  <thead>\n",
       "    <tr style=\"text-align: right;\">\n",
       "      <th></th>\n",
       "      <th>Germany</th>\n",
       "      <th>Spain</th>\n",
       "      <th>CreditScore</th>\n",
       "      <th>Gender</th>\n",
       "      <th>Age</th>\n",
       "      <th>Tenure</th>\n",
       "      <th>Balance</th>\n",
       "      <th>NumOfProducts</th>\n",
       "      <th>HasCrCard</th>\n",
       "      <th>IsActiveMember</th>\n",
       "      <th>EstimatedSalary</th>\n",
       "      <th>Exited</th>\n",
       "    </tr>\n",
       "  </thead>\n",
       "  <tbody>\n",
       "    <tr>\n",
       "      <th>0</th>\n",
       "      <td>0</td>\n",
       "      <td>0</td>\n",
       "      <td>619</td>\n",
       "      <td>0</td>\n",
       "      <td>42</td>\n",
       "      <td>2</td>\n",
       "      <td>0.00</td>\n",
       "      <td>1</td>\n",
       "      <td>1</td>\n",
       "      <td>1</td>\n",
       "      <td>101348.88</td>\n",
       "      <td>1</td>\n",
       "    </tr>\n",
       "    <tr>\n",
       "      <th>1</th>\n",
       "      <td>0</td>\n",
       "      <td>1</td>\n",
       "      <td>608</td>\n",
       "      <td>0</td>\n",
       "      <td>41</td>\n",
       "      <td>1</td>\n",
       "      <td>83807.86</td>\n",
       "      <td>1</td>\n",
       "      <td>0</td>\n",
       "      <td>1</td>\n",
       "      <td>112542.58</td>\n",
       "      <td>0</td>\n",
       "    </tr>\n",
       "    <tr>\n",
       "      <th>2</th>\n",
       "      <td>0</td>\n",
       "      <td>0</td>\n",
       "      <td>502</td>\n",
       "      <td>0</td>\n",
       "      <td>42</td>\n",
       "      <td>8</td>\n",
       "      <td>159660.80</td>\n",
       "      <td>3</td>\n",
       "      <td>1</td>\n",
       "      <td>0</td>\n",
       "      <td>113931.57</td>\n",
       "      <td>1</td>\n",
       "    </tr>\n",
       "    <tr>\n",
       "      <th>3</th>\n",
       "      <td>0</td>\n",
       "      <td>0</td>\n",
       "      <td>699</td>\n",
       "      <td>0</td>\n",
       "      <td>39</td>\n",
       "      <td>1</td>\n",
       "      <td>0.00</td>\n",
       "      <td>2</td>\n",
       "      <td>0</td>\n",
       "      <td>0</td>\n",
       "      <td>93826.63</td>\n",
       "      <td>0</td>\n",
       "    </tr>\n",
       "    <tr>\n",
       "      <th>4</th>\n",
       "      <td>0</td>\n",
       "      <td>1</td>\n",
       "      <td>850</td>\n",
       "      <td>0</td>\n",
       "      <td>43</td>\n",
       "      <td>2</td>\n",
       "      <td>125510.82</td>\n",
       "      <td>1</td>\n",
       "      <td>1</td>\n",
       "      <td>1</td>\n",
       "      <td>79084.10</td>\n",
       "      <td>0</td>\n",
       "    </tr>\n",
       "  </tbody>\n",
       "</table>\n",
       "</div>"
      ],
      "text/plain": [
       "   Germany  Spain  CreditScore  Gender  Age  Tenure    Balance  NumOfProducts  \\\n",
       "0        0      0          619       0   42       2       0.00              1   \n",
       "1        0      1          608       0   41       1   83807.86              1   \n",
       "2        0      0          502       0   42       8  159660.80              3   \n",
       "3        0      0          699       0   39       1       0.00              2   \n",
       "4        0      1          850       0   43       2  125510.82              1   \n",
       "\n",
       "   HasCrCard  IsActiveMember  EstimatedSalary  Exited  \n",
       "0          1               1        101348.88       1  \n",
       "1          0               1        112542.58       0  \n",
       "2          1               0        113931.57       1  \n",
       "3          0               0         93826.63       0  \n",
       "4          1               1         79084.10       0  "
      ]
     },
     "execution_count": 18,
     "metadata": {},
     "output_type": "execute_result"
    }
   ],
   "source": [
    "data.head()"
   ]
  },
  {
   "cell_type": "code",
   "execution_count": 19,
   "metadata": {},
   "outputs": [
    {
     "data": {
      "text/plain": [
       "1    5084\n",
       "2    4590\n",
       "3     266\n",
       "4      60\n",
       "Name: NumOfProducts, dtype: int64"
      ]
     },
     "execution_count": 19,
     "metadata": {},
     "output_type": "execute_result"
    }
   ],
   "source": [
    "data['NumOfProducts'].value_counts()"
   ]
  },
  {
   "cell_type": "code",
   "execution_count": 20,
   "metadata": {},
   "outputs": [],
   "source": [
    "dummy2 = pd.get_dummies(data['NumOfProducts'] , drop_first=True)"
   ]
  },
  {
   "cell_type": "code",
   "execution_count": 21,
   "metadata": {},
   "outputs": [],
   "source": [
    "data = pd.concat([dummy2 , data],axis=1)"
   ]
  },
  {
   "cell_type": "code",
   "execution_count": 22,
   "metadata": {},
   "outputs": [],
   "source": [
    "data.drop('NumOfProducts', inplace=True , axis=1)"
   ]
  },
  {
   "cell_type": "code",
   "execution_count": 23,
   "metadata": {},
   "outputs": [
    {
     "data": {
      "text/html": [
       "<div>\n",
       "<style scoped>\n",
       "    .dataframe tbody tr th:only-of-type {\n",
       "        vertical-align: middle;\n",
       "    }\n",
       "\n",
       "    .dataframe tbody tr th {\n",
       "        vertical-align: top;\n",
       "    }\n",
       "\n",
       "    .dataframe thead th {\n",
       "        text-align: right;\n",
       "    }\n",
       "</style>\n",
       "<table border=\"1\" class=\"dataframe\">\n",
       "  <thead>\n",
       "    <tr style=\"text-align: right;\">\n",
       "      <th></th>\n",
       "      <th>2</th>\n",
       "      <th>3</th>\n",
       "      <th>4</th>\n",
       "      <th>Germany</th>\n",
       "      <th>Spain</th>\n",
       "      <th>CreditScore</th>\n",
       "      <th>Gender</th>\n",
       "      <th>Age</th>\n",
       "      <th>Tenure</th>\n",
       "      <th>Balance</th>\n",
       "      <th>HasCrCard</th>\n",
       "      <th>IsActiveMember</th>\n",
       "      <th>EstimatedSalary</th>\n",
       "      <th>Exited</th>\n",
       "    </tr>\n",
       "  </thead>\n",
       "  <tbody>\n",
       "    <tr>\n",
       "      <th>0</th>\n",
       "      <td>0</td>\n",
       "      <td>0</td>\n",
       "      <td>0</td>\n",
       "      <td>0</td>\n",
       "      <td>0</td>\n",
       "      <td>619</td>\n",
       "      <td>0</td>\n",
       "      <td>42</td>\n",
       "      <td>2</td>\n",
       "      <td>0.00</td>\n",
       "      <td>1</td>\n",
       "      <td>1</td>\n",
       "      <td>101348.88</td>\n",
       "      <td>1</td>\n",
       "    </tr>\n",
       "    <tr>\n",
       "      <th>1</th>\n",
       "      <td>0</td>\n",
       "      <td>0</td>\n",
       "      <td>0</td>\n",
       "      <td>0</td>\n",
       "      <td>1</td>\n",
       "      <td>608</td>\n",
       "      <td>0</td>\n",
       "      <td>41</td>\n",
       "      <td>1</td>\n",
       "      <td>83807.86</td>\n",
       "      <td>0</td>\n",
       "      <td>1</td>\n",
       "      <td>112542.58</td>\n",
       "      <td>0</td>\n",
       "    </tr>\n",
       "    <tr>\n",
       "      <th>2</th>\n",
       "      <td>0</td>\n",
       "      <td>1</td>\n",
       "      <td>0</td>\n",
       "      <td>0</td>\n",
       "      <td>0</td>\n",
       "      <td>502</td>\n",
       "      <td>0</td>\n",
       "      <td>42</td>\n",
       "      <td>8</td>\n",
       "      <td>159660.80</td>\n",
       "      <td>1</td>\n",
       "      <td>0</td>\n",
       "      <td>113931.57</td>\n",
       "      <td>1</td>\n",
       "    </tr>\n",
       "    <tr>\n",
       "      <th>3</th>\n",
       "      <td>1</td>\n",
       "      <td>0</td>\n",
       "      <td>0</td>\n",
       "      <td>0</td>\n",
       "      <td>0</td>\n",
       "      <td>699</td>\n",
       "      <td>0</td>\n",
       "      <td>39</td>\n",
       "      <td>1</td>\n",
       "      <td>0.00</td>\n",
       "      <td>0</td>\n",
       "      <td>0</td>\n",
       "      <td>93826.63</td>\n",
       "      <td>0</td>\n",
       "    </tr>\n",
       "    <tr>\n",
       "      <th>4</th>\n",
       "      <td>0</td>\n",
       "      <td>0</td>\n",
       "      <td>0</td>\n",
       "      <td>0</td>\n",
       "      <td>1</td>\n",
       "      <td>850</td>\n",
       "      <td>0</td>\n",
       "      <td>43</td>\n",
       "      <td>2</td>\n",
       "      <td>125510.82</td>\n",
       "      <td>1</td>\n",
       "      <td>1</td>\n",
       "      <td>79084.10</td>\n",
       "      <td>0</td>\n",
       "    </tr>\n",
       "  </tbody>\n",
       "</table>\n",
       "</div>"
      ],
      "text/plain": [
       "   2  3  4  Germany  Spain  CreditScore  Gender  Age  Tenure    Balance  \\\n",
       "0  0  0  0        0      0          619       0   42       2       0.00   \n",
       "1  0  0  0        0      1          608       0   41       1   83807.86   \n",
       "2  0  1  0        0      0          502       0   42       8  159660.80   \n",
       "3  1  0  0        0      0          699       0   39       1       0.00   \n",
       "4  0  0  0        0      1          850       0   43       2  125510.82   \n",
       "\n",
       "   HasCrCard  IsActiveMember  EstimatedSalary  Exited  \n",
       "0          1               1        101348.88       1  \n",
       "1          0               1        112542.58       0  \n",
       "2          1               0        113931.57       1  \n",
       "3          0               0         93826.63       0  \n",
       "4          1               1         79084.10       0  "
      ]
     },
     "execution_count": 23,
     "metadata": {},
     "output_type": "execute_result"
    }
   ],
   "source": [
    "data.head()"
   ]
  },
  {
   "cell_type": "code",
   "execution_count": 24,
   "metadata": {},
   "outputs": [],
   "source": [
    "X = data.drop('Exited',axis=1).values\n",
    "y = data['Exited'].values"
   ]
  },
  {
   "cell_type": "code",
   "execution_count": 25,
   "metadata": {},
   "outputs": [],
   "source": [
    "from sklearn.model_selection import train_test_split"
   ]
  },
  {
   "cell_type": "code",
   "execution_count": 26,
   "metadata": {},
   "outputs": [],
   "source": [
    "X_train, X_test, y_train, y_test = train_test_split(X, y, test_size=0.3, random_state=42)"
   ]
  },
  {
   "cell_type": "code",
   "execution_count": 27,
   "metadata": {},
   "outputs": [],
   "source": [
    "from sklearn.preprocessing import MinMaxScaler"
   ]
  },
  {
   "cell_type": "code",
   "execution_count": 28,
   "metadata": {},
   "outputs": [],
   "source": [
    "scaler = MinMaxScaler()"
   ]
  },
  {
   "cell_type": "code",
   "execution_count": 29,
   "metadata": {},
   "outputs": [],
   "source": [
    "X_train = scaler.fit_transform(X_train)\n",
    "X_test = scaler.transform(X_test)"
   ]
  },
  {
   "cell_type": "code",
   "execution_count": 30,
   "metadata": {},
   "outputs": [],
   "source": [
    "from keras.layers import Dense,Dropout\n",
    "from keras.models import Sequential"
   ]
  },
  {
   "cell_type": "code",
   "execution_count": 31,
   "metadata": {},
   "outputs": [
    {
     "data": {
      "text/plain": [
       "(7000, 13)"
      ]
     },
     "execution_count": 31,
     "metadata": {},
     "output_type": "execute_result"
    }
   ],
   "source": [
    "X_train.shape"
   ]
  },
  {
   "cell_type": "code",
   "execution_count": 32,
   "metadata": {},
   "outputs": [
    {
     "name": "stdout",
     "output_type": "stream",
     "text": [
      "Train on 7000 samples, validate on 3000 samples\n",
      "Epoch 1/100\n",
      "7000/7000 [==============================] - 1s 112us/step - loss: 0.5537 - accuracy: 0.7893 - val_loss: 0.4482 - val_accuracy: 0.8053\n",
      "Epoch 2/100\n",
      "7000/7000 [==============================] - 1s 72us/step - loss: 0.4309 - accuracy: 0.8054 - val_loss: 0.3987 - val_accuracy: 0.8310\n",
      "Epoch 3/100\n",
      "7000/7000 [==============================] - 1s 72us/step - loss: 0.4029 - accuracy: 0.8300 - val_loss: 0.3836 - val_accuracy: 0.8357\n",
      "Epoch 4/100\n",
      "7000/7000 [==============================] - 1s 71us/step - loss: 0.3916 - accuracy: 0.8359 - val_loss: 0.3791 - val_accuracy: 0.8443\n",
      "Epoch 5/100\n",
      "7000/7000 [==============================] - 1s 74us/step - loss: 0.3865 - accuracy: 0.8369 - val_loss: 0.3695 - val_accuracy: 0.8463\n",
      "Epoch 6/100\n",
      "7000/7000 [==============================] - 1s 74us/step - loss: 0.3824 - accuracy: 0.8373 - val_loss: 0.3695 - val_accuracy: 0.8440\n",
      "Epoch 7/100\n",
      "7000/7000 [==============================] - 1s 76us/step - loss: 0.3806 - accuracy: 0.8376 - val_loss: 0.3655 - val_accuracy: 0.8483\n",
      "Epoch 8/100\n",
      "7000/7000 [==============================] - 1s 74us/step - loss: 0.3794 - accuracy: 0.8384 - val_loss: 0.3666 - val_accuracy: 0.8503\n",
      "Epoch 9/100\n",
      "7000/7000 [==============================] - 1s 81us/step - loss: 0.3791 - accuracy: 0.8393 - val_loss: 0.3667 - val_accuracy: 0.8513\n",
      "Epoch 10/100\n",
      "7000/7000 [==============================] - 1s 74us/step - loss: 0.3785 - accuracy: 0.8393 - val_loss: 0.3633 - val_accuracy: 0.8487\n",
      "Epoch 11/100\n",
      "7000/7000 [==============================] - 1s 74us/step - loss: 0.3787 - accuracy: 0.8399 - val_loss: 0.3635 - val_accuracy: 0.8490\n",
      "Epoch 12/100\n",
      "7000/7000 [==============================] - 1s 74us/step - loss: 0.3781 - accuracy: 0.8391 - val_loss: 0.3629 - val_accuracy: 0.8480\n",
      "Epoch 13/100\n",
      "7000/7000 [==============================] - 1s 74us/step - loss: 0.3778 - accuracy: 0.8391 - val_loss: 0.3626 - val_accuracy: 0.8490\n",
      "Epoch 14/100\n",
      "7000/7000 [==============================] - 1s 76us/step - loss: 0.3782 - accuracy: 0.8399 - val_loss: 0.3633 - val_accuracy: 0.8500\n",
      "Epoch 15/100\n",
      "7000/7000 [==============================] - 1s 74us/step - loss: 0.3784 - accuracy: 0.8411 - val_loss: 0.3625 - val_accuracy: 0.8467\n",
      "Epoch 16/100\n",
      "7000/7000 [==============================] - 1s 74us/step - loss: 0.3779 - accuracy: 0.8394 - val_loss: 0.3632 - val_accuracy: 0.8507\n",
      "Epoch 17/100\n",
      "7000/7000 [==============================] - 1s 73us/step - loss: 0.3776 - accuracy: 0.8401 - val_loss: 0.3624 - val_accuracy: 0.8463\n",
      "Epoch 18/100\n",
      "7000/7000 [==============================] - 1s 74us/step - loss: 0.3780 - accuracy: 0.8407 - val_loss: 0.3622 - val_accuracy: 0.8473\n",
      "Epoch 19/100\n",
      "7000/7000 [==============================] - 1s 76us/step - loss: 0.3772 - accuracy: 0.8397 - val_loss: 0.3620 - val_accuracy: 0.8477\n",
      "Epoch 20/100\n",
      "7000/7000 [==============================] - 1s 74us/step - loss: 0.3778 - accuracy: 0.8387 - val_loss: 0.3624 - val_accuracy: 0.8490\n",
      "Epoch 21/100\n",
      "7000/7000 [==============================] - 1s 76us/step - loss: 0.3783 - accuracy: 0.8366 - val_loss: 0.3618 - val_accuracy: 0.8467\n",
      "Epoch 22/100\n",
      "7000/7000 [==============================] - 1s 74us/step - loss: 0.3783 - accuracy: 0.8399 - val_loss: 0.3627 - val_accuracy: 0.8503\n",
      "Epoch 23/100\n",
      "7000/7000 [==============================] - 1s 74us/step - loss: 0.3786 - accuracy: 0.8371 - val_loss: 0.3621 - val_accuracy: 0.8453\n",
      "Epoch 24/100\n",
      "7000/7000 [==============================] - 1s 77us/step - loss: 0.3778 - accuracy: 0.8403 - val_loss: 0.3619 - val_accuracy: 0.8460\n",
      "Epoch 25/100\n",
      "7000/7000 [==============================] - 1s 73us/step - loss: 0.3777 - accuracy: 0.8387 - val_loss: 0.3619 - val_accuracy: 0.8477\n",
      "Epoch 26/100\n",
      "7000/7000 [==============================] - 1s 76us/step - loss: 0.3770 - accuracy: 0.8399 - val_loss: 0.3614 - val_accuracy: 0.8470\n",
      "Epoch 27/100\n",
      "7000/7000 [==============================] - 1s 76us/step - loss: 0.3774 - accuracy: 0.8396 - val_loss: 0.3717 - val_accuracy: 0.8487\n",
      "Epoch 28/100\n",
      "7000/7000 [==============================] - 1s 76us/step - loss: 0.3775 - accuracy: 0.8399 - val_loss: 0.3642 - val_accuracy: 0.8507\n",
      "Epoch 29/100\n",
      "7000/7000 [==============================] - 1s 76us/step - loss: 0.3770 - accuracy: 0.8396 - val_loss: 0.3619 - val_accuracy: 0.8457\n",
      "Epoch 30/100\n",
      "7000/7000 [==============================] - 1s 76us/step - loss: 0.3774 - accuracy: 0.8393 - val_loss: 0.3614 - val_accuracy: 0.8480\n",
      "Epoch 31/100\n",
      "7000/7000 [==============================] - 1s 74us/step - loss: 0.3775 - accuracy: 0.8377 - val_loss: 0.3625 - val_accuracy: 0.8493\n",
      "Epoch 32/100\n",
      "7000/7000 [==============================] - 1s 74us/step - loss: 0.3774 - accuracy: 0.8384 - val_loss: 0.3627 - val_accuracy: 0.8503\n",
      "Epoch 33/100\n",
      "7000/7000 [==============================] - 1s 76us/step - loss: 0.3772 - accuracy: 0.8393 - val_loss: 0.3622 - val_accuracy: 0.8463\n",
      "Epoch 34/100\n",
      "7000/7000 [==============================] - 1s 74us/step - loss: 0.3778 - accuracy: 0.8396 - val_loss: 0.3613 - val_accuracy: 0.8483\n",
      "Epoch 35/100\n",
      "7000/7000 [==============================] - 1s 74us/step - loss: 0.3781 - accuracy: 0.8394 - val_loss: 0.3619 - val_accuracy: 0.8460\n",
      "Epoch 36/100\n",
      "7000/7000 [==============================] - 1s 74us/step - loss: 0.3771 - accuracy: 0.8386 - val_loss: 0.3613 - val_accuracy: 0.8477\n",
      "Epoch 37/100\n",
      "7000/7000 [==============================] - 1s 72us/step - loss: 0.3770 - accuracy: 0.8406 - val_loss: 0.3612 - val_accuracy: 0.8490\n",
      "Epoch 38/100\n",
      "7000/7000 [==============================] - 0s 71us/step - loss: 0.3770 - accuracy: 0.8393 - val_loss: 0.3651 - val_accuracy: 0.8503\n",
      "Epoch 39/100\n",
      "7000/7000 [==============================] - 1s 74us/step - loss: 0.3783 - accuracy: 0.8389 - val_loss: 0.3653 - val_accuracy: 0.8490\n",
      "Epoch 40/100\n",
      "7000/7000 [==============================] - 0s 71us/step - loss: 0.3776 - accuracy: 0.8400 - val_loss: 0.3628 - val_accuracy: 0.8503\n",
      "Epoch 41/100\n",
      "7000/7000 [==============================] - 1s 74us/step - loss: 0.3773 - accuracy: 0.8397 - val_loss: 0.3630 - val_accuracy: 0.8497\n",
      "Epoch 42/100\n",
      "7000/7000 [==============================] - 1s 72us/step - loss: 0.3771 - accuracy: 0.8393 - val_loss: 0.3611 - val_accuracy: 0.8470\n",
      "Epoch 43/100\n",
      "7000/7000 [==============================] - 1s 74us/step - loss: 0.3782 - accuracy: 0.8393 - val_loss: 0.3662 - val_accuracy: 0.8493\n",
      "Epoch 44/100\n",
      "7000/7000 [==============================] - 0s 71us/step - loss: 0.3780 - accuracy: 0.8386 - val_loss: 0.3621 - val_accuracy: 0.8447\n",
      "Epoch 45/100\n",
      "7000/7000 [==============================] - 1s 72us/step - loss: 0.3764 - accuracy: 0.8387 - val_loss: 0.3651 - val_accuracy: 0.8457\n",
      "Epoch 46/100\n",
      "7000/7000 [==============================] - 1s 72us/step - loss: 0.3772 - accuracy: 0.8394 - val_loss: 0.3614 - val_accuracy: 0.8460\n",
      "Epoch 47/100\n",
      "7000/7000 [==============================] - 0s 71us/step - loss: 0.3777 - accuracy: 0.8390 - val_loss: 0.3620 - val_accuracy: 0.8483\n",
      "Epoch 48/100\n",
      "7000/7000 [==============================] - 1s 72us/step - loss: 0.3773 - accuracy: 0.8369 - val_loss: 0.3614 - val_accuracy: 0.8487\n",
      "Epoch 49/100\n",
      "7000/7000 [==============================] - 1s 74us/step - loss: 0.3773 - accuracy: 0.8384 - val_loss: 0.3618 - val_accuracy: 0.8500\n",
      "Epoch 50/100\n",
      "7000/7000 [==============================] - 1s 71us/step - loss: 0.3773 - accuracy: 0.8387 - val_loss: 0.3614 - val_accuracy: 0.8490\n",
      "Epoch 51/100\n",
      "7000/7000 [==============================] - 1s 74us/step - loss: 0.3770 - accuracy: 0.8394 - val_loss: 0.3612 - val_accuracy: 0.8467\n",
      "Epoch 52/100\n",
      "7000/7000 [==============================] - 1s 74us/step - loss: 0.3776 - accuracy: 0.8401 - val_loss: 0.3609 - val_accuracy: 0.8500\n",
      "Epoch 53/100\n",
      "7000/7000 [==============================] - 1s 72us/step - loss: 0.3769 - accuracy: 0.8400 - val_loss: 0.3609 - val_accuracy: 0.8490\n",
      "Epoch 54/100\n",
      "7000/7000 [==============================] - 0s 71us/step - loss: 0.3774 - accuracy: 0.8403 - val_loss: 0.3612 - val_accuracy: 0.8460\n",
      "Epoch 55/100\n",
      "7000/7000 [==============================] - 1s 72us/step - loss: 0.3770 - accuracy: 0.8403 - val_loss: 0.3620 - val_accuracy: 0.8447\n",
      "Epoch 56/100\n"
     ]
    },
    {
     "name": "stdout",
     "output_type": "stream",
     "text": [
      "7000/7000 [==============================] - 1s 73us/step - loss: 0.3774 - accuracy: 0.8386 - val_loss: 0.3609 - val_accuracy: 0.8473\n",
      "Epoch 57/100\n",
      "7000/7000 [==============================] - 1s 72us/step - loss: 0.3763 - accuracy: 0.8387 - val_loss: 0.3615 - val_accuracy: 0.8493\n",
      "Epoch 58/100\n",
      "7000/7000 [==============================] - 0s 71us/step - loss: 0.3765 - accuracy: 0.8411 - val_loss: 0.3605 - val_accuracy: 0.8483\n",
      "Epoch 59/100\n",
      "7000/7000 [==============================] - 1s 72us/step - loss: 0.3762 - accuracy: 0.8406 - val_loss: 0.3618 - val_accuracy: 0.8457\n",
      "Epoch 60/100\n",
      "7000/7000 [==============================] - 0s 71us/step - loss: 0.3758 - accuracy: 0.8390 - val_loss: 0.3603 - val_accuracy: 0.8487\n",
      "Epoch 61/100\n",
      "7000/7000 [==============================] - 0s 71us/step - loss: 0.3758 - accuracy: 0.8407 - val_loss: 0.3611 - val_accuracy: 0.8457\n",
      "Epoch 62/100\n",
      "7000/7000 [==============================] - 0s 69us/step - loss: 0.3755 - accuracy: 0.8406 - val_loss: 0.3598 - val_accuracy: 0.8487\n",
      "Epoch 63/100\n",
      "7000/7000 [==============================] - 0s 69us/step - loss: 0.3752 - accuracy: 0.8394 - val_loss: 0.3616 - val_accuracy: 0.8503\n",
      "Epoch 64/100\n",
      "7000/7000 [==============================] - 0s 71us/step - loss: 0.3760 - accuracy: 0.8401 - val_loss: 0.3592 - val_accuracy: 0.8487\n",
      "Epoch 65/100\n",
      "7000/7000 [==============================] - 0s 71us/step - loss: 0.3746 - accuracy: 0.8391 - val_loss: 0.3590 - val_accuracy: 0.8503\n",
      "Epoch 66/100\n",
      "7000/7000 [==============================] - 0s 69us/step - loss: 0.3747 - accuracy: 0.8409 - val_loss: 0.3590 - val_accuracy: 0.8487\n",
      "Epoch 67/100\n",
      "7000/7000 [==============================] - 0s 69us/step - loss: 0.3736 - accuracy: 0.8419 - val_loss: 0.3587 - val_accuracy: 0.8493\n",
      "Epoch 68/100\n",
      "7000/7000 [==============================] - 0s 70us/step - loss: 0.3724 - accuracy: 0.8427 - val_loss: 0.3584 - val_accuracy: 0.8513\n",
      "Epoch 69/100\n",
      "7000/7000 [==============================] - 1s 74us/step - loss: 0.3721 - accuracy: 0.8413 - val_loss: 0.3568 - val_accuracy: 0.8513\n",
      "Epoch 70/100\n",
      "7000/7000 [==============================] - 1s 74us/step - loss: 0.3711 - accuracy: 0.8419 - val_loss: 0.3556 - val_accuracy: 0.8540\n",
      "Epoch 71/100\n",
      "7000/7000 [==============================] - 1s 72us/step - loss: 0.3695 - accuracy: 0.8430 - val_loss: 0.3555 - val_accuracy: 0.8523\n",
      "Epoch 72/100\n",
      "7000/7000 [==============================] - 0s 71us/step - loss: 0.3694 - accuracy: 0.8439 - val_loss: 0.3540 - val_accuracy: 0.8557\n",
      "Epoch 73/100\n",
      "7000/7000 [==============================] - 1s 72us/step - loss: 0.3675 - accuracy: 0.8463 - val_loss: 0.3533 - val_accuracy: 0.8580\n",
      "Epoch 74/100\n",
      "7000/7000 [==============================] - 0s 71us/step - loss: 0.3669 - accuracy: 0.8451 - val_loss: 0.3526 - val_accuracy: 0.8600\n",
      "Epoch 75/100\n",
      "7000/7000 [==============================] - 1s 71us/step - loss: 0.3663 - accuracy: 0.8476 - val_loss: 0.3516 - val_accuracy: 0.8593\n",
      "Epoch 76/100\n",
      "7000/7000 [==============================] - 1s 76us/step - loss: 0.3653 - accuracy: 0.8487 - val_loss: 0.3516 - val_accuracy: 0.8607\n",
      "Epoch 77/100\n",
      "7000/7000 [==============================] - 0s 71us/step - loss: 0.3645 - accuracy: 0.8497 - val_loss: 0.3521 - val_accuracy: 0.8580\n",
      "Epoch 78/100\n",
      "7000/7000 [==============================] - 1s 72us/step - loss: 0.3639 - accuracy: 0.8494 - val_loss: 0.3513 - val_accuracy: 0.8587\n",
      "Epoch 79/100\n",
      "7000/7000 [==============================] - 1s 71us/step - loss: 0.3635 - accuracy: 0.8493 - val_loss: 0.3494 - val_accuracy: 0.8617\n",
      "Epoch 80/100\n",
      "7000/7000 [==============================] - 1s 73us/step - loss: 0.3630 - accuracy: 0.8509 - val_loss: 0.3492 - val_accuracy: 0.8610\n",
      "Epoch 81/100\n",
      "7000/7000 [==============================] - 0s 71us/step - loss: 0.3625 - accuracy: 0.8501 - val_loss: 0.3486 - val_accuracy: 0.8623\n",
      "Epoch 82/100\n",
      "7000/7000 [==============================] - 1s 72us/step - loss: 0.3620 - accuracy: 0.8497 - val_loss: 0.3489 - val_accuracy: 0.8593\n",
      "Epoch 83/100\n",
      "7000/7000 [==============================] - 0s 71us/step - loss: 0.3612 - accuracy: 0.8519 - val_loss: 0.3474 - val_accuracy: 0.8630\n",
      "Epoch 84/100\n",
      "7000/7000 [==============================] - 1s 72us/step - loss: 0.3607 - accuracy: 0.8533 - val_loss: 0.3477 - val_accuracy: 0.8607\n",
      "Epoch 85/100\n",
      "7000/7000 [==============================] - 1s 71us/step - loss: 0.3604 - accuracy: 0.8491 - val_loss: 0.3474 - val_accuracy: 0.8610\n",
      "Epoch 86/100\n",
      "7000/7000 [==============================] - 0s 71us/step - loss: 0.3605 - accuracy: 0.8539 - val_loss: 0.3477 - val_accuracy: 0.8577\n",
      "Epoch 87/100\n",
      "7000/7000 [==============================] - 1s 71us/step - loss: 0.3593 - accuracy: 0.8523 - val_loss: 0.3474 - val_accuracy: 0.8603\n",
      "Epoch 88/100\n",
      "7000/7000 [==============================] - 0s 71us/step - loss: 0.3585 - accuracy: 0.8521 - val_loss: 0.3505 - val_accuracy: 0.8603\n",
      "Epoch 89/100\n",
      "7000/7000 [==============================] - 1s 72us/step - loss: 0.3594 - accuracy: 0.8526 - val_loss: 0.3473 - val_accuracy: 0.8610\n",
      "Epoch 90/100\n",
      "7000/7000 [==============================] - 0s 71us/step - loss: 0.3585 - accuracy: 0.8524 - val_loss: 0.3479 - val_accuracy: 0.8620\n",
      "Epoch 91/100\n",
      "7000/7000 [==============================] - 0s 71us/step - loss: 0.3576 - accuracy: 0.8523 - val_loss: 0.3446 - val_accuracy: 0.8603\n",
      "Epoch 92/100\n",
      "7000/7000 [==============================] - 1s 73us/step - loss: 0.3576 - accuracy: 0.8520 - val_loss: 0.3446 - val_accuracy: 0.8617\n",
      "Epoch 93/100\n",
      "7000/7000 [==============================] - 0s 71us/step - loss: 0.3577 - accuracy: 0.8530 - val_loss: 0.3445 - val_accuracy: 0.8610\n",
      "Epoch 94/100\n",
      "7000/7000 [==============================] - 1s 72us/step - loss: 0.3571 - accuracy: 0.8529 - val_loss: 0.3453 - val_accuracy: 0.8600\n",
      "Epoch 95/100\n",
      "7000/7000 [==============================] - 0s 71us/step - loss: 0.3559 - accuracy: 0.8530 - val_loss: 0.3449 - val_accuracy: 0.8620\n",
      "Epoch 96/100\n",
      "7000/7000 [==============================] - 1s 74us/step - loss: 0.3556 - accuracy: 0.8533 - val_loss: 0.3451 - val_accuracy: 0.8590\n",
      "Epoch 97/100\n",
      "7000/7000 [==============================] - 0s 71us/step - loss: 0.3551 - accuracy: 0.8539 - val_loss: 0.3452 - val_accuracy: 0.8593\n",
      "Epoch 98/100\n",
      "7000/7000 [==============================] - 1s 72us/step - loss: 0.3550 - accuracy: 0.8543 - val_loss: 0.3437 - val_accuracy: 0.8643\n",
      "Epoch 99/100\n",
      "7000/7000 [==============================] - 1s 71us/step - loss: 0.3542 - accuracy: 0.8543 - val_loss: 0.3427 - val_accuracy: 0.8633\n",
      "Epoch 100/100\n",
      "7000/7000 [==============================] - 1s 72us/step - loss: 0.3541 - accuracy: 0.8534 - val_loss: 0.3509 - val_accuracy: 0.8583\n"
     ]
    },
    {
     "data": {
      "text/plain": [
       "<keras.callbacks.callbacks.History at 0xd7859d8b48>"
      ]
     },
     "execution_count": 32,
     "metadata": {},
     "output_type": "execute_result"
    }
   ],
   "source": [
    "model = Sequential()\n",
    "\n",
    "model.add(Dense(input_dim = X_train.shape[1] , units = 15 , activation = 'relu' , kernel_initializer = 'random_uniform'))\n",
    "\n",
    "\n",
    "model.add(Dense(units = 15 , activation = 'relu' , kernel_initializer = 'random_uniform'))\n",
    "\n",
    "\n",
    "model.add(Dense(units = 1 , activation = 'sigmoid' , kernel_initializer = 'random_uniform'))\n",
    "\n",
    "\n",
    "model.compile(optimizer='adam',loss='binary_crossentropy' , metrics=['accuracy'])\n",
    "\n",
    "model.fit(X_train,y_train,epochs=100,batch_size=32 , validation_data=[X_test,y_test])"
   ]
  },
  {
   "cell_type": "code",
   "execution_count": 33,
   "metadata": {},
   "outputs": [],
   "source": [
    "df = pd.DataFrame(model.history.history)"
   ]
  },
  {
   "cell_type": "code",
   "execution_count": 34,
   "metadata": {},
   "outputs": [
    {
     "data": {
      "text/html": [
       "<div>\n",
       "<style scoped>\n",
       "    .dataframe tbody tr th:only-of-type {\n",
       "        vertical-align: middle;\n",
       "    }\n",
       "\n",
       "    .dataframe tbody tr th {\n",
       "        vertical-align: top;\n",
       "    }\n",
       "\n",
       "    .dataframe thead th {\n",
       "        text-align: right;\n",
       "    }\n",
       "</style>\n",
       "<table border=\"1\" class=\"dataframe\">\n",
       "  <thead>\n",
       "    <tr style=\"text-align: right;\">\n",
       "      <th></th>\n",
       "      <th>val_loss</th>\n",
       "      <th>val_accuracy</th>\n",
       "      <th>loss</th>\n",
       "      <th>accuracy</th>\n",
       "    </tr>\n",
       "  </thead>\n",
       "  <tbody>\n",
       "    <tr>\n",
       "      <th>0</th>\n",
       "      <td>0.448240</td>\n",
       "      <td>0.805333</td>\n",
       "      <td>0.553684</td>\n",
       "      <td>0.789286</td>\n",
       "    </tr>\n",
       "    <tr>\n",
       "      <th>1</th>\n",
       "      <td>0.398749</td>\n",
       "      <td>0.831000</td>\n",
       "      <td>0.430938</td>\n",
       "      <td>0.805429</td>\n",
       "    </tr>\n",
       "    <tr>\n",
       "      <th>2</th>\n",
       "      <td>0.383578</td>\n",
       "      <td>0.835667</td>\n",
       "      <td>0.402937</td>\n",
       "      <td>0.830000</td>\n",
       "    </tr>\n",
       "    <tr>\n",
       "      <th>3</th>\n",
       "      <td>0.379067</td>\n",
       "      <td>0.844333</td>\n",
       "      <td>0.391596</td>\n",
       "      <td>0.835857</td>\n",
       "    </tr>\n",
       "    <tr>\n",
       "      <th>4</th>\n",
       "      <td>0.369483</td>\n",
       "      <td>0.846333</td>\n",
       "      <td>0.386459</td>\n",
       "      <td>0.836857</td>\n",
       "    </tr>\n",
       "  </tbody>\n",
       "</table>\n",
       "</div>"
      ],
      "text/plain": [
       "   val_loss  val_accuracy      loss  accuracy\n",
       "0  0.448240      0.805333  0.553684  0.789286\n",
       "1  0.398749      0.831000  0.430938  0.805429\n",
       "2  0.383578      0.835667  0.402937  0.830000\n",
       "3  0.379067      0.844333  0.391596  0.835857\n",
       "4  0.369483      0.846333  0.386459  0.836857"
      ]
     },
     "execution_count": 34,
     "metadata": {},
     "output_type": "execute_result"
    }
   ],
   "source": [
    "df.head()"
   ]
  },
  {
   "cell_type": "code",
   "execution_count": 35,
   "metadata": {},
   "outputs": [],
   "source": [
    "df = df[['val_loss','loss']]"
   ]
  },
  {
   "cell_type": "code",
   "execution_count": 36,
   "metadata": {},
   "outputs": [
    {
     "data": {
      "text/plain": [
       "<matplotlib.axes._subplots.AxesSubplot at 0xd786f91108>"
      ]
     },
     "execution_count": 36,
     "metadata": {},
     "output_type": "execute_result"
    },
    {
     "data": {
      "image/png": "[encoded data removed]",
      "text/plain": [
       "<Figure size 432x288 with 1 Axes>"
      ]
     },
     "metadata": {
      "needs_background": "light"
     },
     "output_type": "display_data"
    }
   ],
   "source": [
    "df.plot()"
   ]
  },
  {
   "cell_type": "code",
   "execution_count": 37,
   "metadata": {},
   "outputs": [],
   "source": [
    "from sklearn import metrics"
   ]
  },
  {
   "cell_type": "code",
   "execution_count": 38,
   "metadata": {},
   "outputs": [
    {
     "data": {
      "text/plain": [
       "0.8583333333333333"
      ]
     },
     "execution_count": 38,
     "metadata": {},
     "output_type": "execute_result"
    }
   ],
   "source": [
    "pred = model.predict_classes(X_test)\n",
    "metrics.accuracy_score(pred,y_test)"
   ]
  },
  {
   "cell_type": "code",
   "execution_count": 39,
   "metadata": {},
   "outputs": [
    {
     "name": "stdout",
     "output_type": "stream",
     "text": [
      "              precision    recall  f1-score   support\n",
      "\n",
      "           0       0.95      0.88      0.92      2589\n",
      "           1       0.49      0.69      0.57       411\n",
      "\n",
      "    accuracy                           0.86      3000\n",
      "   macro avg       0.72      0.79      0.74      3000\n",
      "weighted avg       0.88      0.86      0.87      3000\n",
      "\n"
     ]
    }
   ],
   "source": [
    "print(metrics.classification_report(pred,y_test))"
   ]
  },
  {
   "cell_type": "code",
   "execution_count": 40,
   "metadata": {},
   "outputs": [
    {
     "data": {
      "text/plain": [
       "0    7963\n",
       "1    2037\n",
       "Name: Exited, dtype: int64"
      ]
     },
     "execution_count": 40,
     "metadata": {},
     "output_type": "execute_result"
    }
   ],
   "source": [
    "data['Exited'].value_counts()"
   ]
  },
  {
   "cell_type": "code",
   "execution_count": 41,
   "metadata": {},
   "outputs": [
    {
     "name": "stdout",
     "output_type": "stream",
     "text": [
      "[[2290  299]\n",
      " [ 126  285]]\n"
     ]
    }
   ],
   "source": [
    "print(metrics.confusion_matrix(pred,y_test))"
   ]
  },
  {
   "cell_type": "code",
   "execution_count": null,
   "metadata": {},
   "outputs": [],
   "source": []
  },
  {
   "cell_type": "code",
   "execution_count": null,
   "metadata": {},
   "outputs": [],
   "source": []
  }
 ],
 "metadata": {
  "kernelspec": {
   "display_name": "Python 3",
   "language": "python",
   "name": "python3"
  },
  "language_info": {
   "codemirror_mode": {
    "name": "ipython",
    "version": 3
   },
   "file_extension": ".py",
   "mimetype": "text/x-python",
   "name": "python",
   "nbconvert_exporter": "python",
   "pygments_lexer": "ipython3",
   "version": "3.7.6"
  }
 },
 "nbformat": 4,
 "nbformat_minor": 4
}
